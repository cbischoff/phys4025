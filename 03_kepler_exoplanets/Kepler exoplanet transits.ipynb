{
 "cells": [
  {
   "cell_type": "code",
   "execution_count": null,
   "metadata": {},
   "outputs": [],
   "source": [
    "# Initial notebook setup -- RUN ME FIRST!\n",
    "import numpy as np\n",
    "%matplotlib inline\n",
    "import matplotlib.pyplot as plt\n",
    "from matplotlib import rcParams\n",
    "rcParams.update({'font.size': 14})\n",
    "rcParams['figure.figsize'] = (10, 5)"
   ]
  },
  {
   "cell_type": "markdown",
   "metadata": {},
   "source": [
    "# Fitting exoplanet transit models to Kepler light curves\n",
    "\n",
    "[Kepler](https://www.nasa.gov/mission_pages/kepler/spacecraft/index.html) is a space telescope designed to search for planets around other stars (exoplanets). The primary detection technique used by Kepler is transit photometry. It continuously monitors a field of view containing ~150,000 main sequence stars for more than three years. If an exoplanet transits in front of any of those stars, it will be detected as a periodic dimming. It is important to remember that Kepler will find a **biased** population -- planets with large orbital radius have lower probability to be well-aligned for transits and their orbital periods could be too long for Kepler to observe periodicity.\n",
    "\n",
    "Kepler data can be accessed through the [Barbara A. Mikulski Archive for Space Telescopes](https://archive.stsci.edu/kepler/data_search/search.php). If you follow that link, it will take you to a search form that lets you query with all sorts of criteria. For this exercise, we are going to focus on [Kepler 8-b](https://archive.stsci.edu/kepler/published_planets/search.php?action=Search&kepler_name=Kepler-8+b) (Kepler ID 6922244). This is an example of a \"hot Jupiter\". The planet radius that is 14.6 times larger than Earth, but it orbits a Sun-like star at an orbital distance of just 0.05 AU and period of 3.522 days. Click on the Kepler 8-b link above and take a look at the information provided in the table. \n",
    "\n",
    "From the Kepler data archive, we can download a file containing the *light curve* for this star. A light curve is simply the brightness (flux) of the star as a function of time. In this case, we are going to download the data for Kepler ID 6922244 from January 5 2012 through March 28 2012."
   ]
  },
  {
   "cell_type": "code",
   "execution_count": null,
   "metadata": {},
   "outputs": [],
   "source": [
    "# Download Kepler 8-b light curve from archive.stsci.edu\n",
    "# Only need to run this cell once.\n",
    "!wget https://archive.stsci.edu/missions/kepler/lightcurves/0069/006922244/kplr006922244-2012088054726_llc.fits\n"
   ]
  },
  {
   "cell_type": "markdown",
   "metadata": {},
   "source": [
    "The light curve data is contained in a [FITS file](https://fits.gsfc.nasa.gov/), which is a file format that is widely used in astronomy. We don't need to delve into the details of FITS files because the `astropy` module (python library for astronomy) includes tools for reading data in FITS format. The block of code below will read the light curve file that you just downloaded and print the names of the data fields that it finds in the file."
   ]
  },
  {
   "cell_type": "code",
   "execution_count": null,
   "metadata": {},
   "outputs": [],
   "source": [
    "# Import FITS read/write tools from astropy module.\n",
    "from astropy.io import fits\n",
    "\n",
    "# Open the FITS file containing the light curve for Kepler 8-b \n",
    "# and select the data from Header Data Unit (HDU) 1.\n",
    "k8b = fits.open('kplr006922244-2012088054726_llc.fits')[1].data\n",
    "# Print names of the data fields.\n",
    "print(k8b.names)\n"
   ]
  },
  {
   "cell_type": "markdown",
   "metadata": {},
   "source": [
    "You can see that this file contains a lot of different data fields. We are going to ignore most of these, except for the following important ones:\n",
    "* `k8b['TIME']` = time value for each sample, in units of days starting from noon on January 1 2009.\n",
    "* `k8b['SAP_FLUX']` = measured flux of the star for each time sample, in raw CCD units (electrons / second).\n",
    "* `k8b['PDCSAP_FLUX']` = measured flux of the star after applying corrections to remove long term instrumental drifts and other similar effects.\n",
    "* `k8b['PDCSAP_FLUX_ERR']` = statistic uncertainty on the corrected flux.\n",
    "\n",
    "Notice the syntax for selecting data fields&mdash;you need to provide the exact field name (case-sensitive) as a string (in quotes) inside square brackets.\n",
    "\n",
    "The first thing to do is to take a look at the data. Plot both the uncorrected (`'SAP_FLUX'`) and corrected (`'PDCSAP_FLUX'`) flux as a function of time. You should be able to easily pick out the periodic exoplanet transits. Note that there are some gaps in the data (with more gaps in the corrected flux data). These gaps show up in the data array as `NaN` values (i.e. not a number). They can be due to instabilities in the instrument or cosmic ray hits on the focal plane CCDs.\n",
    "\n",
    "You can try plotting other fields if you like. For a full description of all data fields, you can read Section 2.3.1 of the [Kepler Archive Manual](https://archive.stsci.edu/kepler/manuals/archive_manual.pdf). (I'm not actually suggesting that you should do this now.)\n"
   ]
  },
  {
   "cell_type": "code",
   "execution_count": null,
   "metadata": {},
   "outputs": [],
   "source": [
    "# Plot both uncorrected and corrected flux as a function of time.\n"
   ]
  },
  {
   "cell_type": "markdown",
   "metadata": {},
   "source": [
    "Next, we want to fold the light curve so that all of the transits stack up on top of each other. To do this, we can convert our `TIME` data array into phase by dividing by the orbital period (3.522 days) and using the [modulo operation](https://docs.scipy.org/doc/numpy-1.13.0/reference/generated/numpy.mod.html) to translate the phase onto the range [0,1]. Because of some subtle details in how the `astropy.io.fits` module works, we will first copy the data to some new variables.\n",
    "\n",
    "If you try calculating the phase using the wrong period, you will find that the transit samples do not line up neatly with one another. Note that you can apply an arbitrary offset to the phase, which will just modify where the transit occurs. This is not important for our purposes, but it will be helpful for later on to make sure that the transit doesn't occur near the boundary where phase wraps around from 1 to 0.\n"
   ]
  },
  {
   "cell_type": "code",
   "execution_count": null,
   "metadata": {},
   "outputs": [],
   "source": [
    "# Copy light curve data arrays.\n",
    "time = k8b['TIME'].copy()\n",
    "flux = k8b['PDCSAP_FLUX'].copy()\n",
    "flux_err = k8b['PDCSAP_FLUX_ERR'].copy()\n",
    "\n",
    "# Now, calculate phase from time.\n",
    "# Divide time by orbital period (tau) and use the np.mod function to determine the result modulo 1.\n",
    "tau = 3.522 # Orbital period, in days.\n",
    "phase =     ######### CALCULATE PHASE HERE #########\n",
    "\n",
    "# Plot the folded light curve.\n",
    "plt.plot(phase, flux, '.')\n"
   ]
  },
  {
   "cell_type": "markdown",
   "metadata": {},
   "source": [
    "## Very simple transit model\n",
    "\n",
    "We are going to start very simple for our first exoplanet model. In this model, the planet is either eclipsing the star or it is not (no transition region). When the eclipse is occurring, the observed flux will be reduced by fractional amount\n",
    "\n",
    "$$\n",
    "\\begin{equation}\n",
    "\\frac{\\Delta f}{f} = \\left( \\frac{r_p}{r_*} \\right)^2 ,\n",
    "\\end{equation}\n",
    "$$\n",
    "\n",
    "where $r_p$ is the radius of the planet and $r_*$ is the radius of the star.\n",
    "\n",
    "The duration of the eclipse, $t_1$, is the time that it takes for the planet to travel a distance equal to the diameter of the star, i.e. $2 r_*$. We have already converted our time coordinate into orbital phase, so we want to calculate this time in units of the orbital period.\n",
    "\n",
    "$$\n",
    "\\begin{equation}\n",
    "t_1 = \\frac{2 r_*}{v}\n",
    "\\end{equation}\n",
    "$$\n",
    "\n",
    "But we can rewrite the orbital velocity of the planet, $v$, in terms of orbital period, $\\tau$, and orbital radius, $R$.\n",
    "\n",
    "$$\n",
    "\\begin{align}\n",
    "v &= \\frac{2 \\pi R}{\\tau} \\\\\n",
    "\\frac{t_1}{\\tau} &= \\frac{r_*}{\\pi R}\n",
    "\\end{align}\n",
    "$$\n",
    "\n",
    "Now we have all the pieces we need to write a function that calculates this model. Our function will take two inputs: an array of model parameters and an array of phase values. Using the parameters, we will calculate the expected flux for each phase value provided, so the result returned by this function will be an array of fluxes with the same size as the input array of phases. \n",
    "\n",
    "We are packing the model parameters into a single array so that we can use this function with a minimization algorithm later. I suggest using the following parameters (though there are other valid choices and you can change this if you like):\n",
    "* `param[0]` = baseline flux when eclipse is not occurring\n",
    "* `param[1]` = phase value when the eclipse begins, *i.e.* $\\phi_0$\n",
    "* `param[2]` = radius of planet / radius of orbit, *i.e.* $r_p / R$\n",
    "* `param[3]` = radius of star / radius of orbit, *i.e.* $r_* / R$\n",
    "\n",
    "To write this function, you will need to figure out which samples have phase that falls during the eclipse. One way to do this would be to write a `for` loop that examines every phase value and checks whether is has phase in that range. But a *much better* way of doing this is to use functions that test every value in the array at once. numpy arrays naturally support logical (Boolean) operations on the entire array and you can use the [`np.where`](https://docs.scipy.org/doc/numpy-1.13.0/reference/generated/numpy.where.html) function to identify the indices of samples for which the operation evaluates to `True`.\n",
    "\n",
    "For example, if `ph0` is the phase at the start of the eclipse and `ph1` is the phase at the end of the eclipse, you can do the following:\n",
    "```\n",
    "# Find indices where phase is between ph0 and ph1.\n",
    "idx = np.where((phase >= ph0) & (phase < ph1))\n",
    "# Specify that flux should be 1 - df for those particular samples.\n",
    "# This assumes that flux and phase are arrays with matching length!\n",
    "flux[idx] = 1.0 - df\n",
    "```\n"
   ]
  },
  {
   "cell_type": "code",
   "execution_count": null,
   "metadata": {},
   "outputs": [],
   "source": [
    "def model0(param, phase):\n",
    "    \"\"\"\n",
    "    Calculate simple exoplanet transit model.\n",
    "    \n",
    "    Inputs\n",
    "    ------\n",
    "    param : array, shape=(4,)\n",
    "        Array of model parameters, ordered as above.\n",
    "    phase : array, shape=(N,)\n",
    "        Array of phase values in range [0,1] for which to calculate flux.\n",
    "        \n",
    "    Returns\n",
    "    -------\n",
    "    flux : array, shape=(N,)\n",
    "        Array of flux values with same shape as input phase array.\n",
    "    \n",
    "    \"\"\"\n",
    "    \n",
    "    # Unpack model parameters.\n",
    "    f0 = param[0]  # baseline flux\n",
    "    ph0 = param[1] # phase at start of eclipse\n",
    "    rp = param[2]  # radius of planet\n",
    "    rs = param[3]  # radius of star\n",
    "    \n",
    "    # Calculate flux.\n",
    "    # Start with an array of ones that has the same size as the input phase array.\n",
    "    flux = np.ones(phase.shape)\n",
    "\n",
    "    # Now you need to find the phase values between ph0 and ph0 + t1/tau (i.e. samples during the eclipse) \n",
    "    # and modify the flux for those values so that it is decreased by factor df/f.\n",
    "    ############# ADD CODE HERE ################\n",
    "    \n",
    "    # So far we have a flux array that is equal to one when the planet is not transiting,\n",
    "    # then decreases fractionally when the planet is transiting. We want to compare this \n",
    "    # to actual flux data, so we need to multiply by our baseline flux to normalize.\n",
    "    flux = flux * f0\n",
    "    \n",
    "    # Done -- return the result.\n",
    "    return flux\n",
    "    "
   ]
  },
  {
   "cell_type": "markdown",
   "metadata": {},
   "source": [
    "Try using this function to model the light curve data. Look at your plot of flux vs phase above and try to guess reasonable values for the model parameters. It should be fairly straightforward to estimate the baseline flux and the phase at the start of transit, but the radius of the planet and the star are less obvious. If you plug in your guesses below, you can use that code to evaluate the model and plot it on top of the data.\n"
   ]
  },
  {
   "cell_type": "code",
   "execution_count": null,
   "metadata": {},
   "outputs": [],
   "source": [
    "###### GUESS MODEL PARAMETERS HERE ######\n",
    "f0 =     # baseline flux\n",
    "ph0 =    # phase at start of eclipse\n",
    "rp =     # radius of planet / orbital radius (probably something like 0.01)\n",
    "rs =     # radius of star / orbital radius (probably something like 0.1)\n",
    "# Pack these parameters into an array.\n",
    "param = np.array([f0, ph0, rp, rs])\n",
    "# Plot the light curve data.\n",
    "plt.plot(phase, flux, '.', label='data')\n",
    "# Evaluate the model for phases from 0 to 1.\n",
    "x = np.arange(0, 1, 0.001)\n",
    "y = model0(param, x)\n",
    "# Plot the model.\n",
    "plt.plot(x, y, 'r', label='model')\n",
    "plt.legend()\n",
    "# It might be helpful to zoom in on the eclipse region, using the plt.xlim function.\n"
   ]
  },
  {
   "cell_type": "markdown",
   "metadata": {},
   "source": [
    "If you play around with your guesses long enough, you might be able to get something that matches the light curve reasonably well. However, the computer can do a much better job of exploring all of the options and finding the best one. To do this, we need to define a statistic that quantifies how well the model agrees with the data. The most common statistic for this is $\\chi^2$ (\"chi-squared\")\n",
    "$$\n",
    "\\begin{equation}\n",
    "\\chi^2 = \\sum_i \\frac{(m_i - d_i)^2}{\\sigma_i^2}\n",
    "\\end{equation}\n",
    "$$\n",
    "where $m_i$ are the model values, $d_i$ are the data values, and $\\sigma_i$ are the statistical uncertainties for each data value.\n",
    "\n",
    "Write a simple function to calculate $\\chi^2$.\n"
   ]
  },
  {
   "cell_type": "code",
   "execution_count": null,
   "metadata": {},
   "outputs": [],
   "source": [
    "def chi2(model, data, err):\n",
    "    \"\"\"\n",
    "    Calculates chi^2.\n",
    "    \n",
    "    Inputs\n",
    "    ------\n",
    "    model : array, shape=(N,)\n",
    "        Array of model values.\n",
    "    data : array, shape=(N,)\n",
    "        Array of data values.\n",
    "    err : array, shape=(N,)\n",
    "        Array of statistical uncertainties for each data value.\n",
    "        \n",
    "    Returns\n",
    "    -------\n",
    "    chi2 : float\n",
    "        Calculated chi^2 value.\n",
    "    \n",
    "    \"\"\"\n",
    "    \n",
    "    ####### Write your function here. \n",
    "    # Don't forget the summation! Use the np.nansum function to avoid running into trouble with\n",
    "    # missing values in the Kepler data.\n",
    "    \n",
    "    return chi2\n",
    "    "
   ]
  },
  {
   "cell_type": "markdown",
   "metadata": {},
   "source": [
    "The `scipy` (scientific python) module includes a variety of [minimization algorithms](https://docs.scipy.org/doc/scipy/reference/generated/scipy.optimize.minimize.html#scipy.optimize.minimize). The way that these algorithms work is that you give them a function that takes the array of parameters as an input and returns some statistic (like $\\chi^2$). Starting from some initial guess, the algorithm will play around with the parameters until it has found the combination that minimizes the statistic. Different algorithms have different strengths and weaknesses&mdash;we will use [\"Nelder-Mead\"](https://docs.scipy.org/doc/scipy/reference/optimize.minimize-neldermead.html#optimize-minimize-neldermead), which is generally quite reliable.\n"
   ]
  },
  {
   "cell_type": "code",
   "execution_count": null,
   "metadata": {},
   "outputs": [],
   "source": [
    "# Need to import minimization algorithms from scipy.\n",
    "from scipy.optimize import minimize"
   ]
  },
  {
   "cell_type": "markdown",
   "metadata": {},
   "source": [
    "The `chi2` function that you wrote above isn't exactly what we want, because its inputs include the evaluated model, the data, and the errors. We are going to use a neat python feature known as [lambda expressions](https://docs.python.org/3/tutorial/controlflow.html#lambda-expressions) to quickly define a function that conforms to what we need for the minimization algorithm. The syntax for a lambda expression is a little bit odd:\n",
    "```\n",
    "new_function = lambda p: old_function(p, x1, x2, x3)\n",
    "```\n",
    "What this means is that we just created a function called `new_function`. This function takes only one argument, `p`. When you call it with that argument, it will evaluate `old_function(p, x1, x2, x3)` where `x1`, `x2`, and `x3` were some variables that were already defined at the time that we created `new_function`.\n",
    "\n",
    "Let's put this into action below. The notation is very compact, but you can see that when we call `minfunc`, it will evaluate `model0` using parameter list `p` and our phase values, then it calculates $\\chi^2$ for that model, the data values, and the data uncertainties.\n",
    "\n",
    "When you use the `minimize` function, you have to provide the function to minimize and also an initial guess for the parameters.\n"
   ]
  },
  {
   "cell_type": "code",
   "execution_count": null,
   "metadata": {},
   "outputs": [],
   "source": [
    "# Use a lambda expression to create an function to use for our minimizer.\n",
    "# Remember that the minimization function should take the parameter list as an input argument\n",
    "# and it should return chi^2.\n",
    "minfunc = lambda p: chi2(model0(p, phase), flux, flux_err)\n",
    "\n",
    "# Need to supply an initial guess for the parameters. The result shouldn't really \n",
    "# depend on your guess, but it helps if the guess isn't too far off.\n",
    "f0 =     # baseline flux\n",
    "ph0 =    # phase at start of eclipse\n",
    "rp =     # radius of planet / orbital radius (probably something like 0.01)\n",
    "rs =     # radius of star / orbital radius (probably something like 0.1)\n",
    "guess = np.array([f0, ph0, rp, rs])\n",
    "\n",
    "# Now we can run our minimization algorithm.\n",
    "res = minimize(minfunc, guess, method='Nelder-Mead')\n",
    "print(res)\n"
   ]
  },
  {
   "cell_type": "markdown",
   "metadata": {},
   "source": [
    "The minimization function returns a data structure that contains a lot of information. The most important part are the best-fit parameters that it found, which are stored in `res.x`. The value of $\\chi^2$ for that best-fit model is stored in `res.fun`. It also contains some status flags that tell you whether the algorithm terminated successfully (*i.e.* whether it found a minimum that satisfied its criteria). \n",
    "\n",
    "Plot the best-fit model on top of the data. How does this compare to your attempt at fitting the light curve by hand?\n"
   ]
  },
  {
   "cell_type": "code",
   "execution_count": null,
   "metadata": {},
   "outputs": [],
   "source": [
    "# Plot the light curve data.\n",
    "plt.plot(phase, flux, '.', label='data')\n",
    "# Evaluate the model for phases from 0 to 1.\n",
    "x = np.arange(0, 1, 0.001)\n",
    "y = model0(res.x, x)\n",
    "# Plot the model.\n",
    "plt.plot(x, y, 'r', label='model')\n",
    "plt.legend()\n",
    "# It might be helpful to zoom in on the eclipse region, using the plt.xlim function.\n"
   ]
  },
  {
   "cell_type": "markdown",
   "metadata": {},
   "source": [
    "The [database entry for Kepler 8-b](https://archive.stsci.edu/kepler/published_planets/search.php?action=Search&kepler_name=Kepler-8+b) says that the planet's radius is 14.59 times Earth, the ratio of planet radius to stellar radius is 0.092, and the orbital radius is 0.047 AU. How do these compare to the best-fit values you found? As a reminder, 1 AU = $1.5 \\times 10^{13}$ cm and Earth's radius is $6.4 \\times 10^8$ cm.\n"
   ]
  },
  {
   "cell_type": "code",
   "execution_count": null,
   "metadata": {},
   "outputs": [],
   "source": [
    "AU = 1.5e13 # 1 AU in cm\n",
    "rE = 6.4e8  # Earth radius in cm\n",
    "\n",
    "# Use the best fit parameter values stored in res.x to calculate:\n",
    "# 1. the radius of the exoplanet in units of Earth radius,\n",
    "# 2. the ratio of the planet's radius to the star's radius,\n",
    "# 3. the radius of the planet's orbit in AU\n"
   ]
  },
  {
   "cell_type": "markdown",
   "metadata": {},
   "source": [
    "From your plots comparing the data to the best fit model, it is clear that our model is too simple to fully capture the shape of the transit light curve. One simple extension to the model would be to include impact parameter $b$, which describes whether the planet transits across the midpoint of the star (as seen from Kepler) or closer to one edge. The impact parameter is defined between 0 (transit direct across the midpoint of the star) and 1 (planet just grazes the edge of the star). This modifies the duration of the transit, as shown in Maoz equation 6.7,\n",
    "\n",
    "$$\n",
    "\\begin{equation}\n",
    "\\frac{t_1}{\\tau} = \\frac{r_*}{\\pi R} \\sqrt{1 - b^2} .\n",
    "\\end{equation}\n",
    "$$\n",
    "\n",
    "Write a new minimization function that extends `model0` by adding the impact parameter to the list of parameters. Then update the lambda function used for `minfunc` and rerun the minimization routine. Note that the above expression for duration of the transit takes on imaginary values for values of $b$ outside the range [-1, 1]. Unfortunately the Nelder-Mead algorithm does not support bounded parameters. However, if you start from a good guess for the impact parameter, then you can probably get the minimization routine to converge without errors. Another option is to switch to a different algorithm -- several algorithms included with `minimize` do support parameter bounds (`'L-BFGS-B'`, `'TNC'`, `'SLSQP'` and `'trust-constr'`). See the [function documentation](https://docs.scipy.org/doc/scipy/reference/generated/scipy.optimize.minimize.html) for details.\n",
    "\n",
    "After you get your new fit to work, try plotting both versions of the fit (with and without impact parameter) against the data. Can you see a difference? Also compare the best fit values of $\\chi^2$ found in each case (remember, these are stored in `res.fun`)---a lower value of $\\chi^2$ means that your model is a better description of the data.\n"
   ]
  },
  {
   "cell_type": "code",
   "execution_count": null,
   "metadata": {},
   "outputs": [],
   "source": []
  }
 ],
 "metadata": {
  "kernelspec": {
   "display_name": "Python 3",
   "language": "python",
   "name": "python3"
  },
  "language_info": {
   "codemirror_mode": {
    "name": "ipython",
    "version": 3
   },
   "file_extension": ".py",
   "mimetype": "text/x-python",
   "name": "python",
   "nbconvert_exporter": "python",
   "pygments_lexer": "ipython3",
   "version": "3.7.1"
  }
 },
 "nbformat": 4,
 "nbformat_minor": 2
}
